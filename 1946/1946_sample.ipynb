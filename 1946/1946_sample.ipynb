{
  "nbformat": 4,
  "nbformat_minor": 0,
  "metadata": {
    "colab": {
      "name": "1946_sample.ipynb",
      "provenance": []
    },
    "kernelspec": {
      "name": "python3",
      "display_name": "Python 3"
    },
    "language_info": {
      "name": "python"
    }
  },
  "cells": [
    {
      "cell_type": "code",
      "execution_count": 2,
      "metadata": {
        "id": "4TwipVp6Oox6"
      },
      "outputs": [],
      "source": [
        "import numpy as np\n",
        "import pandas as pd"
      ]
    },
    {
      "cell_type": "markdown",
      "source": [
        "샘플 제출 파일을 다운로드 받습니다."
      ],
      "metadata": {
        "id": "DbH0ZkSEO_IM"
      }
    },
    {
      "cell_type": "code",
      "source": [
        "!wget https://raw.githubusercontent.com/aifactory-space/AFCompetition/main/1946/1946_output_sample.csv"
      ],
      "metadata": {
        "id": "PrpiCCK_OxrR"
      },
      "execution_count": null,
      "outputs": []
    },
    {
      "cell_type": "markdown",
      "source": [
        "아래 셀을 실행하여 샘플 답안을 생성합니다."
      ],
      "metadata": {
        "id": "W4jeoH9mPZrR"
      }
    },
    {
      "cell_type": "code",
      "source": [
        "sample = pd.read_csv(\"1946_output_sample.csv\")\n",
        "label = [str(i) for i in np.random.choice(['pig', 'cow'], len(sample))]\n",
        "val = np.random.uniform(0, 1, len(sample)*4).reshape(-1, 4)\n",
        "val[:,:2] = np.sort(val[:,:2], axis=-1)\n",
        "val[:,2:] = np.sort(val[:,2:], axis=-1)\n",
        "conf = [1.0] * len(sample)\n",
        "sample['LabelName'] = label\n",
        "sample.iloc[:,3:7] = val\n",
        "sample.to_csv('1946_submit.csv', sep=',', index = False)"
      ],
      "metadata": {
        "id": "qpWxUYIgO9E0"
      },
      "execution_count": 5,
      "outputs": []
    },
    {
      "cell_type": "markdown",
      "source": [
        "왼쪽 사이드바에 파일 아이콘을 선택한 후, \"1946_submit.csv\" 파일을 선택하여, 파일 이름 옆 메뉴에서 다운로드를 클릭 후 파일을 다운로드 받습니다.\n",
        "\n",
        "다운로드 받은 1946_submit.csv 파일을 아래 태스크에 제출합니다. http://aifactory.space/competition/detail/1946\n"
      ],
      "metadata": {
        "id": "Jn6iOTpeQgmE"
      }
    }
  ]
}
