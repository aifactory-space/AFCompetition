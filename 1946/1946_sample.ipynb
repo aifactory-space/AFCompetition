{
  "nbformat": 4,
  "nbformat_minor": 0,
  "metadata": {
    "colab": {
      "name": "1946_sample.ipynb",
      "provenance": []
    },
    "kernelspec": {
      "name": "python3",
      "display_name": "Python 3"
    },
    "language_info": {
      "name": "python"
    }
  },
  "cells": [
    {
      "cell_type": "code",
      "execution_count": 1,
      "metadata": {
        "id": "4TwipVp6Oox6"
      },
      "outputs": [],
      "source": [
        "import numpy as np\n",
        "import pandas as pd"
      ]
    },
    {
      "cell_type": "markdown",
      "source": [
        "샘플 제출 파일을 다운로드 받습니다."
      ],
      "metadata": {
        "id": "DbH0ZkSEO_IM"
      }
    },
    {
      "cell_type": "code",
      "source": [
        "!wget https://raw.githubusercontent.com/aifactory-space/AFCompetition/main/1946/1946_baseline.csv"
      ],
      "metadata": {
        "id": "PrpiCCK_OxrR",
        "outputId": "54dd0df1-5a78-4c12-a876-ed59d96009b3",
        "colab": {
          "base_uri": "https://localhost:8080/"
        }
      },
      "execution_count": 2,
      "outputs": [
        {
          "output_type": "stream",
          "name": "stdout",
          "text": [
            "--2022-01-28 06:28:08--  https://raw.githubusercontent.com/aifactory-space/AFCompetition/main/1946/1946_baseline.csv\n",
            "Resolving raw.githubusercontent.com (raw.githubusercontent.com)... 185.199.109.133, 185.199.111.133, 185.199.110.133, ...\n",
            "Connecting to raw.githubusercontent.com (raw.githubusercontent.com)|185.199.109.133|:443... connected.\n",
            "HTTP request sent, awaiting response... 200 OK\n",
            "Length: 15028 (15K) [text/plain]\n",
            "Saving to: ‘1946_baseline.csv’\n",
            "\n",
            "\r1946_baseline.csv     0%[                    ]       0  --.-KB/s               \r1946_baseline.csv   100%[===================>]  14.68K  --.-KB/s    in 0s      \n",
            "\n",
            "2022-01-28 06:28:09 (44.1 MB/s) - ‘1946_baseline.csv’ saved [15028/15028]\n",
            "\n"
          ]
        }
      ]
    },
    {
      "cell_type": "markdown",
      "source": [
        "아래 셀을 실행하여 샘플 답안을 생성합니다."
      ],
      "metadata": {
        "id": "W4jeoH9mPZrR"
      }
    },
    {
      "cell_type": "code",
      "source": [
        "sample = pd.read_csv(\"1946_baseline.csv\")\n",
        "b = sample.copy()\n",
        "b.XMin = b.XMin * (1 + np.random.uniform(-0.054, 0.02, size=len(b)))\n",
        "b.XMax = b.XMax * (1 + np.random.uniform(-0.051, 0.023, size=len(b)))\n",
        "b.YMin = b.YMin * (1 + np.random.uniform(-0.045, 0.031, size=len(b)))\n",
        "b.YMax = b.YMax * (1 + np.random.uniform(-0.033, 0.011, size=len(b)))\n",
        "idx = np.random.choice(np.arange(len(b)), np.random.randint(80, 160, 1)[0], replace=False)\n",
        "b = b.iloc[idx]\n",
        "b.to_csv('1946_submit.csv', sep=',', index = False)"
      ],
      "metadata": {
        "id": "qpWxUYIgO9E0"
      },
      "execution_count": 4,
      "outputs": []
    },
    {
      "cell_type": "markdown",
      "source": [
        "왼쪽 사이드바에 파일 아이콘을 선택한 후, \"1946_submit.csv\" 파일을 선택하여, 파일 이름 옆 메뉴에서 다운로드를 클릭 후 파일을 다운로드 받습니다.\n",
        "\n",
        "다운로드 받은 1946_submit.csv 파일을 아래 태스크에 제출합니다. http://aifactory.space/competition/detail/1946\n"
      ],
      "metadata": {
        "id": "Jn6iOTpeQgmE"
      }
    }
  ]
}